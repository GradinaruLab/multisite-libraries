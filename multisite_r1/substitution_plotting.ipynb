{
 "cells": [
  {
   "cell_type": "code",
   "execution_count": null,
   "id": "bea6a9d4-ffbc-4e03-973f-8fac3c946d8b",
   "metadata": {},
   "outputs": [],
   "source": [
    "import numpy as np\n",
    "import pandas as pd\n",
    "import bokeh\n",
    "from bokeh.models import FactorRange, ColumnDataSource, LinearColorMapper,  ColorBar\n",
    "from bokeh.transform import transform\n",
    "\n",
    "from tqdm.notebook import tqdm\n",
    "\n",
    "import scipy.stats as st\n",
    "import iqplot\n",
    "\n",
    "import Bio.Seq\n",
    "\n",
    "bokeh.io.output_notebook()"
   ]
  },
  {
   "cell_type": "markdown",
   "id": "02c4d288-46da-43ae-b858-6a0cf097b3ad",
   "metadata": {},
   "source": [
    "The purpose of this code is to investigate the diversity of deep sequenced substitution libraries. The nucleotide counts are generated using the `FASTQ_seq_counting.ipynb` notebook. \n",
    "\n",
    "We can write a function to extract amino acid information from the nucleotide. "
   ]
  },
  {
   "cell_type": "code",
   "execution_count": null,
   "id": "80e0cdcc-9883-4671-b63e-c614ba61fc42",
   "metadata": {},
   "outputs": [],
   "source": [
    "def data_ops(dataframe, site, stage):\n",
    "    AA_seq = np.empty_like(dataframe['barcode'])\n",
    "\n",
    "    for i, barcode in tqdm(enumerate(dataframe['barcode'])):\n",
    "        AA_seq[i] = Bio.Seq.translate(dataframe['barcode'][i])\n",
    "\n",
    "    dataframe['aa'] = AA_seq.astype('str')\n",
    "    \n",
    "    dataframe['site'] = site\n",
    "    \n",
    "    dataframe['stage'] = stage\n",
    "    \n",
    "    columns = ['site', 'stage', 'barcode', 'aa', 'counts']\n",
    "    \n",
    "    dataframe = dataframe[columns]\n",
    "    \n",
    "    return(dataframe)"
   ]
  },
  {
   "cell_type": "markdown",
   "id": "8ac636b5-6ddc-4e2e-9216-15a1e3b66cba",
   "metadata": {},
   "source": [
    "We can set some parameters about AAV9 and amino acids for later reference. "
   ]
  },
  {
   "cell_type": "code",
   "execution_count": null,
   "id": "b12f7585-b051-4d12-9054-539941dbefdc",
   "metadata": {},
   "outputs": [],
   "source": [
    "#Initialize the AAV9 AA sequence between each substitution for comparison\n",
    "aav9_452 = 'NGSGQNQ'\n",
    "aav9_492 = 'TVTQNNN'\n",
    "aav9_585 = 'QSAQAQA'\n",
    "\n",
    "#Create a dictionary and a list containing amino acids\n",
    "AA_dict = {'A':0,\n",
    "           'C':1,\n",
    "           'D':2,\n",
    "           'E':3,\n",
    "           'F':4, \n",
    "           'G':5,\n",
    "           'H':6,\n",
    "           'I':7,\n",
    "           'K':8,\n",
    "           'L':9,\n",
    "           'M':10,\n",
    "           'N':11,\n",
    "           'P':12,\n",
    "           'Q':13,\n",
    "           'R':14,\n",
    "           'S':15,\n",
    "           'T':16,\n",
    "           'V':17,\n",
    "           'W':18,\n",
    "           'Y':19,\n",
    "           '*':20}\n",
    "\n",
    "aa_list = ['A','C','D','E','F','G','H','I','K','L','M','N','P','Q','R','S','T','V','W','Y','*']"
   ]
  },
  {
   "cell_type": "markdown",
   "id": "43de2af5-a5d5-48ae-b48c-f3c32734565b",
   "metadata": {},
   "source": [
    "We want to analyze each of the files generated from the counting notebook and include metadata in the process. "
   ]
  },
  {
   "cell_type": "code",
   "execution_count": null,
   "id": "29276030-fe13-44f4-ad8d-637e15f958a7",
   "metadata": {},
   "outputs": [],
   "source": [
    "# df_452_ll = pd.read_csv('analysis/452ll_pairedend1.csv')\n",
    "# df_452_ll = data_ops(df_452_ll, '452', 'll')\n",
    "\n",
    "# df_492_ll = pd.read_csv('analysis/492ll_pairedend1.csv')\n",
    "# df_492_ll = data_ops(df_492_ll, '492', 'll')\n",
    "\n",
    "# df_585_ll = pd.read_csv('analysis/585ll_pairedend1.csv')\n",
    "# df_585_ll = data_ops(df_585_ll, '585', 'll')\n",
    "\n",
    "# df_452_vg = pd.read_csv('analysis/452vg_pairedend1.csv')\n",
    "# df_452_vg = data_ops(df_452_vg, '452', 'vg')\n",
    "\n",
    "# df_492_vg = pd.read_csv('analysis/492vg_pairedend1.csv')\n",
    "# df_492_vg = data_ops(df_492_vg, '492', 'vg')\n",
    "\n",
    "# df_585_vg = pd.read_csv('analysis/585vg_pairedend1.csv')\n",
    "# df_585_vg = data_ops(df_585_vg, '585', 'vg')\n",
    "\n",
    "# df = pd.concat([df_452_ll, df_492_ll, df_585_ll, df_452_vg, df_492_vg, df_585_vg], ignore_index=True)"
   ]
  },
  {
   "cell_type": "markdown",
   "id": "0a4c09fd-0d2e-4331-9d8e-11ca8186dbfb",
   "metadata": {},
   "source": [
    "Due to the time investment, we will save the output so that this doesn't need to be re-run. "
   ]
  },
  {
   "cell_type": "code",
   "execution_count": null,
   "id": "64c9d804-951e-4293-8412-5da7f2dff37a",
   "metadata": {},
   "outputs": [],
   "source": [
    "#df.to_csv('analysis/diversity.csv', index=False)"
   ]
  },
  {
   "cell_type": "markdown",
   "id": "955ba3fe-d0f5-473a-8902-058761a3e289",
   "metadata": {},
   "source": [
    "In future runs, we can load the csv for analysis."
   ]
  },
  {
   "cell_type": "code",
   "execution_count": null,
   "id": "7253d505-520c-4748-91a0-fbe0c406309a",
   "metadata": {},
   "outputs": [],
   "source": [
    "df = pd.read_csv('analysis/diversity.csv')"
   ]
  },
  {
   "cell_type": "markdown",
   "id": "860cb988-adbe-4387-88b1-c0d0b6292b5a",
   "metadata": {},
   "source": [
    "First, we want to examine the cumulative density function of the read counts to examine the diversity across libraries. We examine the linear libraries first."
   ]
  },
  {
   "cell_type": "code",
   "execution_count": null,
   "id": "d4e9fe90-e338-4b58-b012-8db33f5be700",
   "metadata": {},
   "outputs": [],
   "source": [
    "inds = (df['stage'] == 'll')\n",
    "\n",
    "df_plot = df.loc[inds].sample(500000).sort_values('site')\n",
    "\n",
    "p = iqplot.ecdf(data = df_plot, q = 'counts', cats = 'site', x_axis_type=\"log\", style = 'staircase', x_axis_label='linear library counts', palette = ['#5ec962','#21918c','#440154'])\n",
    "\n",
    "bokeh.io.show(p)"
   ]
  },
  {
   "cell_type": "markdown",
   "id": "60987504-bf9f-484b-a088-aef5a1d1b577",
   "metadata": {},
   "source": [
    "Next, we examine the read counts of the viral genomes."
   ]
  },
  {
   "cell_type": "code",
   "execution_count": null,
   "id": "f141d558-8076-430a-b701-3ef4694c8d3a",
   "metadata": {},
   "outputs": [],
   "source": [
    "inds = df['stage'] == 'vg'\n",
    "\n",
    "df_plot = df.loc[inds].sample(500000).sort_values('site')\n",
    "\n",
    "p = iqplot.ecdf(data = df_plot, q = 'counts', cats = 'site', x_axis_type=\"log\", style = 'staircase', x_axis_label='viral genome counts', palette = ['#5ec962','#21918c','#440154'])\n",
    "\n",
    "bokeh.io.show(p)"
   ]
  },
  {
   "cell_type": "markdown",
   "id": "8b2d6e7d-7a76-4187-80ba-aa6e26f83807",
   "metadata": {},
   "source": [
    "Next, we can examine the hamming distance for the libraries to see how much each site varies from AAV9. \n",
    "\n",
    "First, we need to set which site and stage we want to examine. We index the dataframe at these locations. We'll create a dataframe that contains all the sites for linear library. The viral genome hamming distance can be examined by changing stage to 'vg'."
   ]
  },
  {
   "cell_type": "code",
   "execution_count": null,
   "id": "43afaec9-dca5-438d-9e55-5cc10e899641",
   "metadata": {},
   "outputs": [],
   "source": [
    "sites = [452, 492, 585]\n",
    "stage = 'vg'"
   ]
  },
  {
   "cell_type": "markdown",
   "id": "edd91db6-0760-4881-a9d9-8d6122b6bc15",
   "metadata": {},
   "source": [
    "We can then calculate the hamming distance across each substitution."
   ]
  },
  {
   "cell_type": "code",
   "execution_count": null,
   "id": "e8da36d2-a078-4373-93b2-0e2fdeaf48e0",
   "metadata": {},
   "outputs": [],
   "source": [
    "df_plot = pd.DataFrame()\n",
    "\n",
    "for site in sites: \n",
    "    inds = (df['site'] == site) & (df['stage'] == stage)\n",
    "\n",
    "    lst = set(df.loc[inds, 'aa'].values)\n",
    "\n",
    "    hamming_dist = {k: 0 for k in lst}\n",
    "\n",
    "    for sequence in tqdm(lst):\n",
    "\n",
    "        for i in range(7):\n",
    "            if sequence[i] != globals()['aav9_' + str(site)][i]:\n",
    "                hamming_dist[sequence] += 1\n",
    "\n",
    "    df_hd = pd.DataFrame(hamming_dist.items(), columns = ['sequence', 'hamming_dist'])\n",
    "    \n",
    "    df_hd['site'] = site\n",
    "    df_hd['stage'] = stage\n",
    "    \n",
    "    df_plot = pd.concat([df_plot, df_hd])"
   ]
  },
  {
   "cell_type": "markdown",
   "id": "5b9af960-5a9f-442f-bb0a-157315cd7214",
   "metadata": {},
   "source": [
    "We can plot the resulting data."
   ]
  },
  {
   "cell_type": "code",
   "execution_count": null,
   "id": "e6650ae3-c9d5-468a-964c-a67638f27476",
   "metadata": {},
   "outputs": [],
   "source": [
    "p = iqplot.ecdf(df_plot.sample(500000).sort_values('site'), q = 'hamming_dist', cats = 'site', style = 'staircase', palette = ['#5ec962','#21918c','#440154'], x_axis_label='linear library hamming distance')\n",
    "\n",
    "p.output_backend = 'svg'\n",
    "\n",
    "bokeh.io.show(p)"
   ]
  },
  {
   "cell_type": "markdown",
   "id": "e23fa4fb-e4b6-4432-888f-931dff6755f1",
   "metadata": {},
   "source": [
    "Next, we want to examine the amino acid residue frequency by position. To do this, we must first set an index of the specific site and stage (linear library or viral genomes) we want to examine."
   ]
  },
  {
   "cell_type": "code",
   "execution_count": null,
   "id": "f0348dfd-3423-45bc-a601-d09fbc6bcea9",
   "metadata": {},
   "outputs": [],
   "source": [
    "site = 452\n",
    "\n",
    "stage = 'll'"
   ]
  },
  {
   "cell_type": "markdown",
   "id": "04b93bb2-e13d-42c1-9e09-32180434e56b",
   "metadata": {},
   "source": [
    "First, we can determine how many times the amino acids occured in the library, as a total."
   ]
  },
  {
   "cell_type": "code",
   "execution_count": null,
   "id": "f1ee6a15-cc93-4c65-91e6-e82ea61ab6ce",
   "metadata": {},
   "outputs": [],
   "source": [
    "inds = (df['site'] == site) & (df['stage'] == stage)\n",
    "\n",
    "total_aa_matrix = np.zeros((21,7), dtype=int)\n",
    "\n",
    "for aa in df.loc[inds,'aa']:\n",
    "    for i in range(7):\n",
    "        total_aa_matrix[AA_dict[aa[i]],i] += 1"
   ]
  },
  {
   "cell_type": "markdown",
   "id": "f530a44c-da2c-438c-b618-6fd329aad653",
   "metadata": {},
   "source": [
    "Next, we can divide by the sum of each column to get the frequency."
   ]
  },
  {
   "cell_type": "code",
   "execution_count": null,
   "id": "17703aee-5524-408b-ae11-ac664fd82abe",
   "metadata": {},
   "outputs": [],
   "source": [
    "aa_freq_matrix = np.zeros_like(total_aa_matrix).astype(float)\n",
    "\n",
    "for j in range(7):\n",
    "    aa_freq_matrix[:,j] = total_aa_matrix[:,j]/sum(total_aa_matrix[:,j])"
   ]
  },
  {
   "cell_type": "markdown",
   "id": "823f1622-c209-4f49-aeb6-c01b859678f5",
   "metadata": {},
   "source": [
    "Then, we can stack the dataframe to for convenience during plotting."
   ]
  },
  {
   "cell_type": "code",
   "execution_count": null,
   "id": "f995f731-fe5b-4800-827c-81aa4add95d0",
   "metadata": {},
   "outputs": [],
   "source": [
    "df_hm = pd.DataFrame(aa_freq_matrix, \n",
    "                     columns=np.arange(site, site + 7, 1).astype(str), \n",
    "                     index=aa_list)\n",
    "\n",
    "df_hm.index.name = 'Amino Acid'\n",
    "df_hm.columns.name = 'Position'\n",
    "\n",
    "df_hm = df_hm.stack().rename(\"value\").reset_index()"
   ]
  },
  {
   "cell_type": "markdown",
   "id": "d6a8cdf2-51fc-4f98-9560-7be23800748b",
   "metadata": {},
   "source": [
    "Then, we can generate the heatmap plot from this data."
   ]
  },
  {
   "cell_type": "code",
   "execution_count": null,
   "id": "c4392ab9-8263-4d9d-a5db-0f0797f86a2c",
   "metadata": {},
   "outputs": [],
   "source": [
    "mapper = LinearColorMapper(\n",
    "    palette='Magma256', low=df_hm['value'].min(), high=df_hm['value'].max())\n",
    "\n",
    "# Define a figureabsabs\n",
    "p = bokeh.plotting.figure(\n",
    "    plot_width=500,\n",
    "    plot_height=500,\n",
    "    x_range=list(df_hm[\"Position\"].drop_duplicates()),\n",
    "    y_range=list(reversed(list(df_hm[\"Amino Acid\"].drop_duplicates()))),\n",
    "    toolbar_location='right',\n",
    "    tools = \"pan,wheel_zoom,box_zoom,reset,save\",\n",
    "    x_axis_location=\"above\")\n",
    "\n",
    "# Create rectangle for heatmap\n",
    "p.rect(\n",
    "    x=\"Position\",\n",
    "    y=\"Amino Acid\",\n",
    "    width=1,\n",
    "    height=1,\n",
    "    source=ColumnDataSource(df_hm),\n",
    "    line_color=None,\n",
    "    fill_color=transform('value', mapper))\n",
    "\n",
    "# Add legend\n",
    "color_bar = ColorBar(\n",
    "    color_mapper=mapper,\n",
    "    location=(0, 0))\n",
    "\n",
    "p.add_layout(color_bar, 'right')\n",
    "\n",
    "p.output_backend = \"svg\"\n",
    "\n",
    "bokeh.io.show(p)"
   ]
  },
  {
   "cell_type": "markdown",
   "id": "08cab3a0-522b-413c-abfe-6f0feb5183ab",
   "metadata": {},
   "source": [
    "The above cells can be re-run for each library and stage."
   ]
  }
 ],
 "metadata": {
  "kernelspec": {
   "display_name": "Python 3 (ipykernel)",
   "language": "python",
   "name": "python3"
  },
  "language_info": {
   "codemirror_mode": {
    "name": "ipython",
    "version": 3
   },
   "file_extension": ".py",
   "mimetype": "text/x-python",
   "name": "python",
   "nbconvert_exporter": "python",
   "pygments_lexer": "ipython3",
   "version": "3.10.7"
  }
 },
 "nbformat": 4,
 "nbformat_minor": 5
}
