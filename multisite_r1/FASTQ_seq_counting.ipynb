{
 "cells": [
  {
   "cell_type": "code",
   "execution_count": null,
   "metadata": {},
   "outputs": [],
   "source": [
    "import os\n",
    "import pandas as pd\n",
    "from pepars.utils import Illumina_FASTQ_File_Set\n",
    "from pepars.utils import DNA as DNA_utils\n",
    "from pepars.utils import FASTQ as FASTQ_utils\n",
    "from pepars.analysis import DNA as DNA_analysis\n",
    "\n",
    "from Bio.Seq import reverse_complement "
   ]
  },
  {
   "cell_type": "markdown",
   "metadata": {},
   "source": [
    "Function to count the prevalence of sequences withing bulk sequencing data. "
   ]
  },
  {
   "cell_type": "code",
   "execution_count": null,
   "metadata": {},
   "outputs": [],
   "source": [
    "def count_seq(sample_names, lower_nt, higher_nt, read):\n",
    "    \n",
    "    index = 0\n",
    "\n",
    "    for sample in sample_names:\n",
    "\n",
    "        file_set = Illumina_FASTQ_File_Set(file_path, sample)\n",
    "\n",
    "        seq_counts = {}\n",
    "\n",
    "        for sequences in file_set.get_sequence_iterator():\n",
    "\n",
    "            sequence = sequences[read][lower_nt:higher_nt]\n",
    "\n",
    "            if sequence not in seq_counts:\n",
    "                seq_counts[sequence] = 1\n",
    "            else:\n",
    "                seq_counts[sequence] += 1\n",
    "                        \n",
    "        sorted_seq_counts = [(sequence, count) for sequence, count in sorted(seq_counts.items(), key=lambda x: x[1], reverse=True)]\n",
    "        file_set.close()\n",
    "\n",
    "        collapsed_seq_counts = DNA_analysis.collapse_similar_sequences([(x, y) for x, y in seq_counts.items()])\n",
    "        sorted_collapsed_seq_counts = [(sequence, count) for sequence, count in sorted(collapsed_seq_counts, key=lambda x: x[1], reverse=True)]\n",
    "\n",
    "        path = \"analysis/\"\n",
    "\n",
    "        outfilename = path + sample + \"_counts.csv\"\n",
    "\n",
    "        df = pd.DataFrame(sorted_collapsed_seq_counts, columns = ['sequence', 'counts'])\n",
    "        \n",
    "        aa_seq = np.empty_like(df['sequence'])\n",
    "        \n",
    "        aa_rep_counts = {}\n",
    "        \n",
    "        for i, barcode in enumerate(df['sequence']):\n",
    "            aa_seq[i] = Bio.Seq.translate(df['sequence'][i])\n",
    "        \n",
    "        df['aa_sequence'] = aa_seq.astype('str')\n",
    "        \n",
    "        df.to_csv(outfilename, index=False)\n",
    "\n",
    "        print(index)\n",
    "        index += 1"
   ]
  },
  {
   "cell_type": "markdown",
   "metadata": {},
   "source": [
    "Set the file path to FASTQ files, the nucleotides to examine, and the corresponding sample names. Example given is for substitution between AA 492-498."
   ]
  },
  {
   "cell_type": "code",
   "execution_count": null,
   "metadata": {},
   "outputs": [],
   "source": [
    "file_path = 'raw'\n",
    "\n",
    "lower_nt = 18 # 29 for substitution between 452-458 or 585-591\n",
    "higher_nt = 39 # 50 for substitution between 452-458 or 585-591\n",
    "\n",
    "sample_names = ['492ll', \n",
    "                '492vg']\n",
    "\n",
    "count_seq(sample_names, lower_nt, higher_nt, 0)"
   ]
  }
 ],
 "metadata": {
  "kernelspec": {
   "display_name": "Python 3 (ipykernel)",
   "language": "python",
   "name": "python3"
  },
  "language_info": {
   "codemirror_mode": {
    "name": "ipython",
    "version": 3
   },
   "file_extension": ".py",
   "mimetype": "text/x-python",
   "name": "python",
   "nbconvert_exporter": "python",
   "pygments_lexer": "ipython3",
   "version": "3.10.7"
  }
 },
 "nbformat": 4,
 "nbformat_minor": 4
}
