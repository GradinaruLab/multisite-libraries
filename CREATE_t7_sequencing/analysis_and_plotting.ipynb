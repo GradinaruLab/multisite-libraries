{
 "cells": [
  {
   "cell_type": "code",
   "execution_count": null,
   "id": "bea6a9d4-ffbc-4e03-973f-8fac3c946d8b",
   "metadata": {},
   "outputs": [],
   "source": [
    "import pandas as pd\n",
    "import numpy as np\n",
    "\n",
    "import bokeh\n",
    "from bokeh.models import FactorRange, ColumnDataSource, LinearColorMapper,  ColorBar\n",
    "from bokeh.transform import transform\n",
    "\n",
    "import iqplot\n",
    "\n",
    "from tqdm.notebook import tqdm\n",
    "\n",
    "import Bio.Seq\n",
    "\n",
    "bokeh.io.output_notebook()"
   ]
  },
  {
   "cell_type": "markdown",
   "id": "c4903a7a-612a-401d-ad8c-e4c74798736d",
   "metadata": {},
   "source": [
    "Function to determine amino acid sequence from nucleotide."
   ]
  },
  {
   "cell_type": "code",
   "execution_count": null,
   "id": "48e412ee-4ccb-443d-8fe6-81accebf0d21",
   "metadata": {},
   "outputs": [],
   "source": [
    "#This function takes in a dataframe containing sequences (labeled 'barcode') and outputs a dataframe of similar size, containing the amino acid data as a column 'aa'.\n",
    "\n",
    "def data_ops(dataframe):\n",
    "    AA_seq = np.empty_like(dataframe['barcode'])\n",
    "\n",
    "    for i, barcode in enumerate(dataframe['barcode']):\n",
    "        AA_seq[i] = Bio.Seq.translate(dataframe['barcode'][i])\n",
    "\n",
    "    dataframe['aa'] = AA_seq.astype('str')\n",
    "    \n",
    "    columns = ['sample', 'barcode', 'aa', 'counts']\n",
    "    \n",
    "    dataframe = dataframe[columns]\n",
    "    \n",
    "    return(dataframe)"
   ]
  },
  {
   "cell_type": "markdown",
   "id": "67051de6-35eb-4c7e-bfa7-db15d54516b4",
   "metadata": {},
   "source": [
    "The purpose of this code is to analyze the sequencing data from CAP-B comparison experiments. First, we want to load the csv files containing count data (generated with `FASTQ_barcode_counting.ipynb`) and concatenate the files into a single dataframe. "
   ]
  },
  {
   "cell_type": "code",
   "execution_count": null,
   "id": "29276030-fe13-44f4-ad8d-637e15f958a7",
   "metadata": {},
   "outputs": [],
   "source": [
    "name_prefix = ['CAP-B-pool', 'CREATE-Brain-1', 'CREATE-Brain-2', 'CREATE-Liver-1', 'CREATE-Liver-2', 'T7-Brain-1', 'T7-Brain-2', 'T7-Liver-1', 'T7-Liver-2']\n",
    "\n",
    "df_output = pd.DataFrame()\n",
    "\n",
    "for i in range(len(name_prefix)): \n",
    "    ##Set up sample fie name\n",
    "    sample_name = name_prefix[i]\n",
    "    \n",
    "    # Set up path to file\n",
    "    path = 'analysis/' + sample_name\n",
    "    \n",
    "    ##Read in ABI count file\n",
    "    df = pd.read_csv(path + '_counts.csv')\n",
    "    \n",
    "    ##Add a column of sample name to the df\n",
    "    df.insert(0, column = 'sample', value = sample_name)\n",
    "    \n",
    "    if i == 0:\n",
    "        df_output = df\n",
    "    else:\n",
    "        ##Append the current sample count frame to the output frame\n",
    "        df_output = pd.concat([df_output, df], ignore_index = True)"
   ]
  },
  {
   "cell_type": "markdown",
   "id": "7b91410d-1c58-49ff-81c0-63fa89a9c45c",
   "metadata": {},
   "source": [
    "We can examine the dataframe:"
   ]
  },
  {
   "cell_type": "code",
   "execution_count": null,
   "id": "4a1ba5dc-c449-4ab8-b907-d3912e838ea1",
   "metadata": {},
   "outputs": [],
   "source": [
    "df_output"
   ]
  },
  {
   "cell_type": "markdown",
   "id": "aeb7ec48-7b57-41a9-adee-41789fe1c2e5",
   "metadata": {},
   "source": [
    "Next, we can read in the sequences that were used to assemble the library. Sequences not present here will be discarded (as they are intrinsically contamination of our library). The resulting dataframe is called `df_validated`."
   ]
  },
  {
   "cell_type": "code",
   "execution_count": null,
   "id": "6a9fd202-a1ad-4c33-aaac-d8d1f005b10e",
   "metadata": {},
   "outputs": [],
   "source": [
    "df_lut = pd.read_csv('analysis/Barcode_sequences.csv')\n",
    "\n",
    "inds = df_output['barcode'].isin(df_lut['CAP-B Sequence'].values)\n",
    "\n",
    "df_validated = df_output.loc[inds].reset_index(drop = True)\n",
    "\n",
    "df_validated.head()"
   ]
  },
  {
   "cell_type": "markdown",
   "id": "7e581da3-0014-4e87-bc09-d918fb996e4a",
   "metadata": {},
   "source": [
    "We want to ensure that negative data can be plotted, so we create a dataframe that contains zero counts when a sequence doesn't appear in a tissue. This will enable plotting later on."
   ]
  },
  {
   "cell_type": "code",
   "execution_count": null,
   "id": "30115830-6405-4fa9-8447-2bc88dd265df",
   "metadata": {},
   "outputs": [],
   "source": [
    "df_validated_thorough = pd.DataFrame()\n",
    "\n",
    "# Loop through each sample\n",
    "for i, sample in enumerate(name_prefix):\n",
    "    # index that sample in the dataframe\n",
    "    inds = df_validated['sample'] == sample\n",
    "    \n",
    "    # Create a dictionary that is empty at all positions\n",
    "    empty_barcode_dict = pd.Series(np.zeros_like(len(df_lut)), index=df_lut['CAP-B Sequence'].values).to_dict()\n",
    "\n",
    "    # Create a dictionary that contains just the count values\n",
    "    count_dict = pd.Series(df_validated.loc[inds, 'counts'].values, index=df_validated.loc[inds, 'barcode']).to_dict()\n",
    "\n",
    "    # Fill the dictionary with the corresponding count value, leaving zeros where there are no counts \n",
    "    for sequence in tqdm(df_validated.loc[inds, 'barcode']):\n",
    "                \n",
    "            empty_barcode_dict[sequence] = count_dict[sequence]\n",
    "                \n",
    "    #Create a new dictionary with this data\n",
    "    temp_df = pd.DataFrame.from_dict(empty_barcode_dict, orient = 'index', columns = ['counts'])\n",
    "    temp_df = temp_df.reset_index(drop = False, names = 'barcode')\n",
    "        \n",
    "    temp_df['sample'] = sample\n",
    "        \n",
    "    df_validated_thorough = pd.concat([df_validated_thorough, temp_df], ignore_index = False)\n",
    "    \n",
    "df_validated_thorough = df_validated_thorough.reset_index(drop = True)\n",
    "\n",
    "df_validated_thorough = df_validated_thorough[['sample','barcode','counts']]\n",
    "\n",
    "df_validated_thorough.head()"
   ]
  },
  {
   "cell_type": "markdown",
   "id": "97e6628b-f1be-4a52-93a6-c5e0cef6ccd4",
   "metadata": {},
   "source": [
    "We can then confirm that each sample has the correct number of sequences."
   ]
  },
  {
   "cell_type": "code",
   "execution_count": null,
   "id": "fd55ccc8-705b-4315-b952-d15801f097d0",
   "metadata": {},
   "outputs": [],
   "source": [
    "for sample in df_validated_thorough['sample'].unique():\n",
    "    inds = df_validated_thorough['sample'] == sample\n",
    "    print(len(df_validated_thorough.loc[inds]))"
   ]
  },
  {
   "cell_type": "markdown",
   "id": "fb1bc9a6-45e4-4810-bb80-d384745b0b36",
   "metadata": {},
   "source": [
    "We can then determine the amino acid sequence for each sample. We place this in a dataframe named `df_validated` (overwriting the previous version of this)."
   ]
  },
  {
   "cell_type": "code",
   "execution_count": null,
   "id": "9acc0d37-001e-4d87-a28c-aced31277ddf",
   "metadata": {},
   "outputs": [],
   "source": [
    "df_validated = data_ops(df_validated_thorough)"
   ]
  },
  {
   "cell_type": "markdown",
   "id": "c95009da-10ed-4886-aece-9452435be35d",
   "metadata": {},
   "source": [
    "We can then calculate the enrichment of our sequences."
   ]
  },
  {
   "cell_type": "code",
   "execution_count": null,
   "id": "e77b965b-6433-4c4a-adf9-08a58afa01b2",
   "metadata": {},
   "outputs": [],
   "source": [
    "df_enrichment = pd.DataFrame()\n",
    "\n",
    "#Iterate through the different sample names\n",
    "for i, sample in enumerate(name_prefix):\n",
    "    inds = df_validated['sample'] == sample\n",
    "    \n",
    "    #We want to determine the prevalence of each sequence within the pool and create a dictionary of that data.\n",
    "    if sample == 'CAP-B-pool':\n",
    "        \n",
    "        pool_dict = pd.Series(df_validated.loc[inds, 'counts'].values,index=df_validated.loc[inds, 'barcode']).to_dict()\n",
    "        pool_sum = np.sum(df_validated.loc[inds, 'counts'].values)\n",
    "    \n",
    "    \n",
    "    else:\n",
    "        \n",
    "        # For each sample, we want to first create a dictionary of all the count values\n",
    "        count_dict = pd.Series(df_validated.loc[inds, 'counts'].values, index=df_validated.loc[inds, 'barcode']).to_dict()\n",
    "        \n",
    "        # We also want to make a dictionary of enrichment that we will fill in\n",
    "        enrichment_dict = pd.Series(np.zeros_like(len(df_validated.loc[inds])), index=df_validated.loc[inds, 'barcode']).to_dict()\n",
    "        bc_sum = np.sum(df_validated.loc[inds, 'counts'].values)\n",
    "        \n",
    "        #Enrichment calculation is performed for each sequence, comparing the prevalence within each tissue to the prevalence in the pool. If the sequence isn't present in the pool, it is considered to be present at a single read instead. \n",
    "        for sequence in tqdm(df_validated.loc[inds, 'barcode']):\n",
    "            \n",
    "            if pool_dict[sequence] != 0:\n",
    "                \n",
    "                enrichment_dict[sequence] = (count_dict[sequence] / bc_sum) / (pool_dict[sequence] / pool_sum) \n",
    "            \n",
    "            else:\n",
    "                \n",
    "                enrichment_dict[sequence] = (count_dict[sequence] / bc_sum) / (1 / pool_sum) \n",
    "\n",
    "        #Create a new dataframe containing the enrichment values\n",
    "        temp_df = pd.DataFrame.from_dict(enrichment_dict, orient = 'index', columns = ['enrichment'])\n",
    "        temp_df = temp_df.reset_index(drop = False, names = 'barcode')\n",
    "        \n",
    "        temp_df['sample'] = sample\n",
    "        \n",
    "        df_enrichment = pd.concat([df_enrichment, temp_df], ignore_index = False)\n",
    "        \n",
    "    print(sample, 'complete')\n",
    "    \n",
    "df_enrichment = df_enrichment.reset_index(drop = True)\n",
    "df_enrichment.head()"
   ]
  },
  {
   "cell_type": "markdown",
   "id": "c18a9f4a-ee59-422a-8607-fa803d72a39f",
   "metadata": {},
   "source": [
    "Next we want to organize this dataframe."
   ]
  },
  {
   "cell_type": "code",
   "execution_count": null,
   "id": "b0f99562-a16e-4232-aff7-d5f78af19f09",
   "metadata": {},
   "outputs": [],
   "source": [
    "#Include selection, strain, tissue, and replicate information\n",
    "selection = np.empty(len(df_enrichment)).astype(str)\n",
    "strain = np.empty(len(df_enrichment)).astype(str)\n",
    "tissue = np.empty(len(df_enrichment)).astype(str)\n",
    "replicate = np.empty(len(df_enrichment)).astype(int)\n",
    "\n",
    "for i, condition in enumerate(df_enrichment['sample'].str.split('-')):\n",
    "    selection[i] = condition[0]\n",
    "    tissue[i] = condition[1]\n",
    "    replicate[i] = condition[2]\n",
    "    \n",
    "df_enrichment['selection'] = selection\n",
    "df_enrichment['tissue'] = tissue\n",
    "df_enrichment['replicate'] = replicate\n",
    "\n",
    "# Include count and amino acid data\n",
    "df_exp = pd.merge(df_enrichment, df_validated, on = ['sample','barcode'])\n",
    "\n",
    "# Reorganize that data\n",
    "df_exp = df_exp[['sample','selection', 'tissue','replicate','barcode','aa','counts','enrichment']]\n",
    "df_exp = df_exp.sort_values('aa')\n",
    "df_exp = df_exp.sort_values(['selection','tissue','replicate'])\n",
    "df_exp = df_exp.reset_index(drop=True)\n",
    "\n",
    "# Display\n",
    "df_exp.head()"
   ]
  },
  {
   "cell_type": "markdown",
   "id": "dd912e45-58fd-4a56-9e3c-91f46b5b2d72",
   "metadata": {},
   "source": [
    "Now we can start explaring the data by plotting. First, we can examine two different samples for the enrichment of each sequence across the samples. We first do this in a linear plot."
   ]
  },
  {
   "cell_type": "code",
   "execution_count": null,
   "id": "c3cd7a9b-aac1-4165-a9c7-26fc24e70207",
   "metadata": {},
   "outputs": [],
   "source": [
    "sample_1 = 'CREATE-Brain-1'\n",
    "sample_2 = 'CREATE-Brain-2'\n",
    "\n",
    "p = bokeh.plotting.figure(title='Enrichment', width=300, height=300, x_axis_label = sample_1,  y_axis_label = sample_2)\n",
    "\n",
    "p.scatter(df_exp.loc[df_exp['sample'] == sample_1, 'enrichment'], df_exp.loc[df_exp['sample'] == sample_2, 'enrichment'], alpha = 0.2)\n",
    "\n",
    "bokeh.io.show(p)"
   ]
  },
  {
   "cell_type": "markdown",
   "id": "871c20fa-f29f-4a7a-89be-5fae389ee302",
   "metadata": {},
   "source": [
    "Most of the data appears tightly on the axis. This indicates that there is a lack of reproducibility between these samples. We can examine the log plot to see if we drop samples that are zero in either sample if this persists. "
   ]
  },
  {
   "cell_type": "code",
   "execution_count": null,
   "id": "2436e2af-f4e5-44ac-9f9f-9ab7163d0a56",
   "metadata": {},
   "outputs": [],
   "source": [
    "p = bokeh.plotting.figure(title='Enrichment', width=300, height=300, x_axis_label = sample_1,  y_axis_label = sample_2, x_axis_type = 'log', y_axis_type = 'log', x_range=(0.01, 1000), y_range=(0.01, 1000))\n",
    "\n",
    "p.scatter(df_exp.loc[df_exp['sample'] == sample_1, 'enrichment'], df_exp.loc[df_exp['sample'] == sample_2, 'enrichment'], alpha = 0.2)\n",
    "\n",
    "# Toggle this if svg is desired\n",
    "#p.output_backend = 'svg'\n",
    "\n",
    "bokeh.io.show(p)"
   ]
  },
  {
   "cell_type": "markdown",
   "id": "d166a86c-9a12-4834-90d7-5ed4bd12ee51",
   "metadata": {},
   "source": [
    "We can see four clusters in the data, corresponding to whether the sequence is high or low in either sample."
   ]
  },
  {
   "cell_type": "markdown",
   "id": "26a34aec-6b4f-45e9-80f0-d12713775b28",
   "metadata": {},
   "source": [
    "Next, we want to isolate samples that are enriched across all brain measurements."
   ]
  },
  {
   "cell_type": "code",
   "execution_count": null,
   "id": "9f830fcf-1df3-45e1-95dc-cdb5aa80b886",
   "metadata": {},
   "outputs": [],
   "source": [
    "inds = (df_exp['sample'] == 'CREATE-Brain-1') &  (df_exp['enrichment'] > 1)\n",
    "CREATE_Brain_1_enriched = set(df_exp.loc[inds, 'barcode'].values)\n",
    "\n",
    "inds = (df_exp['sample'] == 'CREATE-Brain-2') &  (df_exp['enrichment'] > 1)\n",
    "CREATE_Brain_2_enriched = set(df_exp.loc[inds, 'barcode'].values)\n",
    "\n",
    "inds = (df_exp['sample'] == 'T7-Brain-1') &  (df_exp['enrichment'] > 1)\n",
    "T7_Brain_1_enriched = set(df_exp.loc[inds, 'barcode'].values)\n",
    "\n",
    "inds = (df_exp['sample'] == 'T7-Brain-2') &  (df_exp['enrichment'] > 1)\n",
    "T7_Brain_2_enriched = set(df_exp.loc[inds, 'barcode'].values)\n",
    "\n",
    "cross_enriched = CREATE_Brain_1_enriched & CREATE_Brain_2_enriched & T7_Brain_1_enriched & T7_Brain_2_enriched\n",
    "\n",
    "inds = df_exp['barcode'].isin(cross_enriched)\n",
    "\n",
    "df_brain_enriched = df_exp.loc[inds]"
   ]
  },
  {
   "cell_type": "markdown",
   "id": "c0ac1882-6f4b-48c2-b274-154ea1142882",
   "metadata": {},
   "source": [
    "Then, we want to identify which of those sequences are unenriched across all liver measurements."
   ]
  },
  {
   "cell_type": "code",
   "execution_count": null,
   "id": "0e3e7035-0f88-4bd3-a59f-cea640b7f8b6",
   "metadata": {},
   "outputs": [],
   "source": [
    "inds = (df_exp['sample'] == 'CREATE-Liver-1') &  (df_exp['enrichment'] > 1)\n",
    "CREATE_Liver_1_enriched = set(df_exp.loc[inds, 'barcode'].values)\n",
    "\n",
    "inds = (df_exp['sample'] == 'CREATE-Liver-2') &  (df_exp['enrichment'] > 1)\n",
    "CREATE_Liver_2_enriched = set(df_exp.loc[inds, 'barcode'].values)\n",
    "\n",
    "inds = (df_exp['sample'] == 'T7-Liver-1') &  (df_exp['enrichment'] > 1)\n",
    "T7_Liver_1_enriched = set(df_exp.loc[inds, 'barcode'].values)\n",
    "\n",
    "inds = (df_exp['sample'] == 'T7-Liver-2') &  (df_exp['enrichment'] > 1)\n",
    "T7_Liver_2_enriched = set(df_exp.loc[inds, 'barcode'].values)\n",
    "\n",
    "liver_enriched = CREATE_Liver_1_enriched | CREATE_Liver_2_enriched | T7_Liver_1_enriched | T7_Liver_2_enriched\n",
    "\n",
    "inds = df_brain_enriched['barcode'].isin(liver_enriched)\n",
    "\n",
    "df_brain_not_liver = df_brain_enriched[~inds]\n",
    "\n",
    "df_brain_not_liver.head()"
   ]
  },
  {
   "cell_type": "markdown",
   "id": "79d92ae4-4031-4fda-a22a-6706a6d610f8",
   "metadata": {},
   "source": [
    "We can save those sequences for future measurement."
   ]
  },
  {
   "cell_type": "code",
   "execution_count": null,
   "id": "2175e36a-b3fe-4b94-b84c-3f8f4ab2ffeb",
   "metadata": {},
   "outputs": [],
   "source": [
    "df_brain_not_liver.to_csv('analysis/brain_enriched.csv', index=False)"
   ]
  },
  {
   "cell_type": "markdown",
   "id": "6a9f4f1a-14e8-4be3-872e-3a57fee3c334",
   "metadata": {},
   "source": [
    "We can assaign an index to each of these sequences and determine the log enrichment for convenient plotting."
   ]
  },
  {
   "cell_type": "code",
   "execution_count": null,
   "id": "361abb00-e26d-41d5-afcc-344f5fc76197",
   "metadata": {},
   "outputs": [],
   "source": [
    "index = {}\n",
    "\n",
    "i = 0\n",
    "\n",
    "for aa in tqdm(df_brain_not_liver['barcode']):\n",
    "    if aa not in index:\n",
    "        index[aa] = i\n",
    "        i+=1\n",
    "    else:\n",
    "        i+=1\n",
    "        \n",
    "index_list = np.empty_like(df_brain_not_liver['barcode'])\n",
    "\n",
    "for i, aa in enumerate(df_brain_not_liver['barcode']):\n",
    "    index_list[i] = index[aa]\n",
    "    \n",
    "df_brain_not_liver['index'] = index_list\n",
    "\n",
    "#Create log enrichment values\n",
    "df_brain_not_liver['log enrichment'] = np.log(df_brain_not_liver['enrichment'])"
   ]
  },
  {
   "cell_type": "markdown",
   "id": "c095358b-ea07-436c-ba2b-c58e4d3304ad",
   "metadata": {},
   "source": [
    "We want to drop any values that are -inf in the log enrichment, so that we can plot."
   ]
  },
  {
   "cell_type": "code",
   "execution_count": null,
   "id": "e1bba0bf-2dc6-4a3a-96c2-f1db225a1a50",
   "metadata": {},
   "outputs": [],
   "source": [
    "inds = df_brain_not_liver['log enrichment'] < -10\n",
    "\n",
    "df_brain_not_liver = df_brain_not_liver.loc[~inds]"
   ]
  },
  {
   "cell_type": "markdown",
   "id": "72674410-034e-4b31-949a-a7bfa2a3a9dc",
   "metadata": {},
   "source": [
    "Create a heatmap of these sequences:"
   ]
  },
  {
   "cell_type": "code",
   "execution_count": null,
   "id": "d22d6cae-7d80-4626-b899-c7bbf920d23c",
   "metadata": {},
   "outputs": [],
   "source": [
    "mapper = LinearColorMapper(\n",
    "    palette='Viridis256', low=df_brain_not_liver['log enrichment'].min(), high=df_brain_not_liver['log enrichment'].max())\n",
    "\n",
    "# Define a figureabsabs\n",
    "p = bokeh.plotting.figure(\n",
    "    plot_width=800,\n",
    "    plot_height=800,\n",
    "    x_range=list(df_brain_not_liver[\"sample\"].drop_duplicates()),\n",
    "    y_range=np.arange(len(set(df_brain_not_liver['barcode'].unique()))).astype(str),\n",
    "    toolbar_location='right',\n",
    "    tools = \"pan,wheel_zoom,box_zoom,reset,save\",\n",
    "    x_axis_location=\"above\")\n",
    "\n",
    "# Create rectangle for heatmap\n",
    "p.rect(\n",
    "    x=\"sample\",\n",
    "    y=\"index\",\n",
    "    width=1,\n",
    "    height=1,\n",
    "    source=ColumnDataSource(df_brain_not_liver),\n",
    "    line_color=None,\n",
    "    fill_color=transform('log enrichment', mapper))\n",
    "\n",
    "# Add legend\n",
    "color_bar = ColorBar(\n",
    "    color_mapper=mapper,\n",
    "    location=(0, 0))\n",
    "\n",
    "p.add_layout(color_bar, 'right')\n",
    "\n",
    "p.output_backend = 'svg'\n",
    "\n",
    "bokeh.io.show(p)"
   ]
  },
  {
   "cell_type": "markdown",
   "id": "f6cb344d-134a-412f-b5f3-0aabe3000e12",
   "metadata": {},
   "source": [
    "We also want to examine the presence of validated sequences within our dataset. We can examine our `df_exp` dataframe for the sequences of PHP.eB, CAP-B1, CAP-B2, CAP-B8, CAP-B10, CAP-B18, and CAP-B22. "
   ]
  },
  {
   "cell_type": "code",
   "execution_count": null,
   "id": "981eca56-dbd7-4fb0-9c9b-0304f826af41",
   "metadata": {},
   "outputs": [],
   "source": [
    "inds = df_exp['aa'].isin(['NGSGQNQ','LQTSSPG', 'QQGKQSV','GSGKTAA','DGAATKN','GTGTSVL','DGQSSKS'])\n",
    "\n",
    "df_CAP = df_exp.loc[inds]"
   ]
  },
  {
   "cell_type": "markdown",
   "id": "577b5869-8205-4c80-b14a-f838ed242156",
   "metadata": {},
   "source": [
    "We can plot this data using a scatter plot. "
   ]
  },
  {
   "cell_type": "code",
   "execution_count": null,
   "id": "66ae3823-f86a-487c-8902-27c6d70c8b3b",
   "metadata": {},
   "outputs": [],
   "source": [
    "p = bokeh.plotting.figure(width=400, height=300, x_range=list(['NGSGQNQ','LQTSSPG', 'QQGKQSV','GSGKTAA','DGAATKN','GTGTSVL','DGQSSKS']), y_axis_type = 'log', y_range=(0.005, 30))\n",
    "\n",
    "inds = (df_CAP['selection'] == 'T7') & (df_CAP['tissue'] == 'Liver') & (df_CAP['enrichment'] != 0) & (df_CAP['replicate'] == 1)\n",
    "\n",
    "p.circle(\n",
    "    x=\"aa\",\n",
    "    y=\"enrichment\",\n",
    "    source=ColumnDataSource(df_CAP.loc[inds]),\n",
    "    color = '#443982',\n",
    "    size = 5)\n",
    "\n",
    "inds = (df_CAP['selection'] == 'T7') & (df_CAP['tissue'] == 'Liver') & (df_CAP['enrichment'] != 0) & (df_CAP['replicate'] == 2)\n",
    "\n",
    "p.circle(\n",
    "    x=\"aa\",\n",
    "    y=\"enrichment\",\n",
    "    source=ColumnDataSource(df_CAP.loc[inds]),\n",
    "    size = 5,\n",
    "    color = '#35B778')\n",
    "\n",
    "p.output_backend = 'svg'\n",
    "                                                                                                                                 \n",
    "bokeh.io.show(p)"
   ]
  }
 ],
 "metadata": {
  "kernelspec": {
   "display_name": "Python 3 (ipykernel)",
   "language": "python",
   "name": "python3"
  },
  "language_info": {
   "codemirror_mode": {
    "name": "ipython",
    "version": 3
   },
   "file_extension": ".py",
   "mimetype": "text/x-python",
   "name": "python",
   "nbconvert_exporter": "python",
   "pygments_lexer": "ipython3",
   "version": "3.10.7"
  }
 },
 "nbformat": 4,
 "nbformat_minor": 5
}
