{
 "cells": [
  {
   "cell_type": "code",
   "execution_count": null,
   "metadata": {},
   "outputs": [],
   "source": [
    "import os\n",
    "import pandas as pd\n",
    "from pepars.utils import Illumina_FASTQ_File_Set\n",
    "from pepars.utils import DNA as DNA_utils\n",
    "from pepars.utils import FASTQ as FASTQ_utils\n",
    "from pepars.analysis import DNA as DNA_analysis\n",
    "\n",
    "from tqdm.notebook import tqdm\n",
    "\n",
    "from Bio.Seq import reverse_complement "
   ]
  },
  {
   "cell_type": "markdown",
   "metadata": {},
   "source": [
    "For CAP-B analysis, we determine the frequency of read counts within each sequenced library. The files are read from a folder titled `raw`, and the text before the first underscore is indicated in the `sample_names` variable. The output files can then be analyzed with `analysis_and_plotting.ipynb`"
   ]
  },
  {
   "cell_type": "code",
   "execution_count": null,
   "metadata": {},
   "outputs": [],
   "source": [
    "file_path = 'raw'\n",
    "\n",
    "sample_names = ['CAP-B-pool',\n",
    "                'CREATE-Brain-1',\n",
    "                'CREATE-Brain-2',\n",
    "                'CREATE-Liver-1',\n",
    "                'CREATE-Liver-2',\n",
    "                'T7-Brain-1',\n",
    "                'T7-Brain-2',\n",
    "                'T7-Liver-1',\n",
    "                'T7-Liver-2']\n",
    "index = 0\n",
    "\n",
    "for sample in sample_names:\n",
    "\n",
    "    file_set = Illumina_FASTQ_File_Set(file_path, sample)\n",
    "\n",
    "    counts = {}\n",
    "    \n",
    "    for sequences in tqdm(file_set.get_sequence_iterator()):\n",
    "        \n",
    "        # This code determines which nucleotides are examined as counts\n",
    "        seq = sequences[0][29:50]\n",
    "        \n",
    "        # Here we can quantify the number of counts\n",
    "        if seq not in counts:\n",
    "            counts[seq] = 1\n",
    "        else:\n",
    "            counts[seq] += 1\n",
    "    \n",
    "    # We can sort the sequences by prevalence\n",
    "    sorted_barcode_counts = [(barcode, count) for barcode, count in sorted(counts.items(), key=lambda x: x[1], reverse=True)]\n",
    "\n",
    "    file_set.close()\n",
    "    \n",
    "    # Save the file\n",
    "    path = \"analysis/\"\n",
    "\n",
    "    outfilename = path + sample + \"_counts.csv\"\n",
    "    \n",
    "    df = pd.DataFrame(sorted_barcode_counts, columns = ['barcode', 'counts'])\n",
    "    df.to_csv(outfilename, index=False)\n",
    "    \n",
    "    #print progress\n",
    "    print(index)\n",
    "    index += 1"
   ]
  },
  {
   "cell_type": "code",
   "execution_count": null,
   "metadata": {},
   "outputs": [],
   "source": []
  }
 ],
 "metadata": {
  "kernelspec": {
   "display_name": "Python 3 (ipykernel)",
   "language": "python",
   "name": "python3"
  },
  "language_info": {
   "codemirror_mode": {
    "name": "ipython",
    "version": 3
   },
   "file_extension": ".py",
   "mimetype": "text/x-python",
   "name": "python",
   "nbconvert_exporter": "python",
   "pygments_lexer": "ipython3",
   "version": "3.10.7"
  }
 },
 "nbformat": 4,
 "nbformat_minor": 4
}
