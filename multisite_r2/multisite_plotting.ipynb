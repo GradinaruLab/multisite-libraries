{
 "cells": [
  {
   "cell_type": "code",
   "execution_count": null,
   "id": "bea6a9d4-ffbc-4e03-973f-8fac3c946d8b",
   "metadata": {},
   "outputs": [],
   "source": [
    "import numpy as np\n",
    "import pandas as pd\n",
    "import bokeh\n",
    "from bokeh.models import FactorRange, ColumnDataSource, LinearColorMapper,  ColorBar\n",
    "from bokeh.transform import transform\n",
    "\n",
    "from tqdm.notebook import tqdm\n",
    "\n",
    "import scipy.stats as st\n",
    "import iqplot\n",
    "\n",
    "import Bio.Seq\n",
    "\n",
    "bokeh.io.output_notebook()"
   ]
  },
  {
   "cell_type": "markdown",
   "id": "496c791b-e595-417e-8786-91302fcac0d6",
   "metadata": {},
   "source": [
    "The following code is used to quantify sequencing counts and the diversity within them. "
   ]
  },
  {
   "cell_type": "code",
   "execution_count": null,
   "id": "80e0cdcc-9883-4671-b63e-c614ba61fc42",
   "metadata": {},
   "outputs": [],
   "source": [
    "def data_ops(dataframe, site, stage):\n",
    "    AA_seq = np.empty_like(dataframe['barcode'])\n",
    "\n",
    "    for i, barcode in tqdm(enumerate(dataframe['barcode'])):\n",
    "        AA_seq[i] = Bio.Seq.translate(dataframe['barcode'][i])\n",
    "\n",
    "    dataframe['aa'] = AA_seq.astype('str')\n",
    "    \n",
    "    dataframe['site'] = site\n",
    "    \n",
    "    dataframe['stage'] = stage\n",
    "    \n",
    "    columns = ['site', 'stage', 'barcode', 'aa', 'counts']\n",
    "    \n",
    "    dataframe = dataframe[columns]\n",
    "    \n",
    "    return(dataframe)"
   ]
  },
  {
   "cell_type": "markdown",
   "id": "a3d17eba-0ea3-43c9-bfd6-3d768c47a863",
   "metadata": {},
   "source": [
    "We want to create arrays so we can determine how diverse our libraries are compared to wild type AAV9."
   ]
  },
  {
   "cell_type": "code",
   "execution_count": null,
   "id": "4bc38aba-7efe-4d53-afa9-5074be9fb07a",
   "metadata": {},
   "outputs": [],
   "source": [
    "#Initialize the AAV9 AA sequence between each substitution for comparison\n",
    "aav9_452 = 'NGSGQNQ'\n",
    "aav9_492 = 'TVTQNNN'\n",
    "aav9_585 = 'QSAQAQA'\n",
    "\n",
    "#Create a dictionary and a list containing amino acids\n",
    "AA_dict = {'A':0,\n",
    "           'C':1,\n",
    "           'D':2,\n",
    "           'E':3,\n",
    "           'F':4, \n",
    "           'G':5,\n",
    "           'H':6,\n",
    "           'I':7,\n",
    "           'K':8,\n",
    "           'L':9,\n",
    "           'M':10,\n",
    "           'N':11,\n",
    "           'P':12,\n",
    "           'Q':13,\n",
    "           'R':14,\n",
    "           'S':15,\n",
    "           'T':16,\n",
    "           'V':17,\n",
    "           'W':18,\n",
    "           'Y':19,\n",
    "           '*':20}\n",
    "\n",
    "aa_list = ['A','C','D','E','F','G','H','I','K','L','M','N','P','Q','R','S','T','V','W','Y','*']"
   ]
  },
  {
   "cell_type": "markdown",
   "id": "ba234f60-cb8b-4cf3-891a-24acd2593b59",
   "metadata": {},
   "source": [
    "The first time we load in the files, we need to convert nucleotide sequence to amino acid and add the meta data. We can concatenate all the individual dataframes together into a single dataframe. This code is commented out because these steps are no longer required, as the dataframe is saved as a csv for future applications. "
   ]
  },
  {
   "cell_type": "code",
   "execution_count": null,
   "id": "09d5a202-2d66-4fc4-99c1-d0f8eb4c28b6",
   "metadata": {},
   "outputs": [],
   "source": [
    "# df_2site_ll = pd.read_csv('analysis/2sll_counts.csv')\n",
    "# df_2site_ll = data_ops(df_2site_ll, '2s', 'll')\n",
    "\n",
    "# df_2site_vg = pd.read_csv('analysis/2svg_counts.csv')\n",
    "# df_2site_vg = data_ops(df_2site_vg, '2s', 'vg')\n",
    "\n",
    "# df_3site_ll = pd.read_csv('analysis/3sll_counts.csv')\n",
    "# df_3site_ll = data_ops(df_3site_ll, '3s', 'll')\n",
    "\n",
    "# df_3site_vg = pd.read_csv('analysis/3svg_counts.csv')\n",
    "# df_3site_vg = data_ops(df_3site_vg, '3s', 'vg')\n",
    "\n",
    "# df = pd.concat([df_2site_ll, df_2site_vg, df_3site_ll, df_3site_vg], ignore_index=True)"
   ]
  },
  {
   "cell_type": "markdown",
   "id": "4dcce431-0a91-4fb4-bf2d-8e1baf721bd9",
   "metadata": {},
   "source": [
    "The individual variable regions are then separated into columns."
   ]
  },
  {
   "cell_type": "code",
   "execution_count": null,
   "id": "0d314e28-2944-461c-aeba-c2c07de8eb0d",
   "metadata": {},
   "outputs": [],
   "source": [
    "# df['452-458 nucleotide'] = df['barcode'].str[:21].values\n",
    "# df['492-498 nucleotide'] = df['barcode'].str[21:42].values\n",
    "# df['585-591 nucleotide'] = df['barcode'].str[42:].values\n",
    "\n",
    "# df['452-458 aa'] = df['aa'].str[:7].values\n",
    "# df['492-498 aa'] = df['aa'].str[7:14].values\n",
    "# df['585-591 aa'] = df['aa'].str[14:].values\n",
    "\n",
    "# df = df[['site', 'stage', '452-458 nucleotide', '492-498 nucleotide', '585-591 nucleotide', '452-458 aa', '492-498 aa', '585-591 aa', 'counts']]"
   ]
  },
  {
   "cell_type": "markdown",
   "id": "1914460a-16d5-4b4d-ab6b-cfcdf305a169",
   "metadata": {},
   "source": [
    "The dataframe is saved to save time."
   ]
  },
  {
   "cell_type": "code",
   "execution_count": null,
   "id": "4768ec68-c7ae-46f8-90bd-62526f47be9a",
   "metadata": {},
   "outputs": [],
   "source": [
    "# df.to_csv('analysis/diversity.csv', index=False)"
   ]
  },
  {
   "cell_type": "markdown",
   "id": "3f0a2c2d-5474-4685-8d65-15464c76968d",
   "metadata": {},
   "source": [
    "The dataframe can then be loaded from csv."
   ]
  },
  {
   "cell_type": "code",
   "execution_count": null,
   "id": "b7d8a167-4388-40b9-9e17-bc8b4a5fc0c7",
   "metadata": {},
   "outputs": [],
   "source": [
    "df = pd.read_csv('analysis/diversity.csv')"
   ]
  },
  {
   "cell_type": "markdown",
   "id": "247784f6-9266-46b0-abeb-3df1c7e47efa",
   "metadata": {},
   "source": [
    "We can then use the sequence between 492-498 to determine which libraries are correctly sequenced."
   ]
  },
  {
   "cell_type": "code",
   "execution_count": null,
   "id": "74b10861-6fb0-419d-b100-ff57cffceb2a",
   "metadata": {},
   "outputs": [],
   "source": [
    "inds = ((df['492-498 aa'] == 'TVTQNNN') & (df['site'] == '2s')) | ((df['492-498 aa'] != 'GGGGGGG') & (df['site'] == '3s'))  \n",
    "df = df.loc[inds].reset_index(drop = True)\n",
    "df.head()"
   ]
  },
  {
   "cell_type": "code",
   "execution_count": null,
   "id": "0d0a7afc-830e-4521-b24f-99cf65631b6f",
   "metadata": {},
   "outputs": [],
   "source": [
    "library = '2s'\n",
    "stage = 'vg'\n",
    "\n",
    "inds = (df['site'] == library) & (df['stage'] == stage)"
   ]
  },
  {
   "cell_type": "markdown",
   "id": "7e42d8c8-d7b7-4803-99d9-e67343448f88",
   "metadata": {},
   "source": [
    "First, we want to examine the depth of the library and the corresponding counts. To plot as an ecdf, we can subsample 10000 points (since this is a cumulative density function, this doesn't impact the distribution). "
   ]
  },
  {
   "cell_type": "code",
   "execution_count": null,
   "id": "6e40b7fb-eb09-47b9-bed4-b48270179b07",
   "metadata": {},
   "outputs": [],
   "source": [
    "p = iqplot.ecdf(data = df.loc[inds].sample(10000), q = 'counts', x_axis_type=\"log\", style = 'staircase', palette = \"#5A2995\")\n",
    "\n",
    "p.output_backend = 'svg'\n",
    "\n",
    "bokeh.io.show(p)"
   ]
  },
  {
   "cell_type": "markdown",
   "id": "07eb2337-a528-460b-8f90-1fc11d9b5b1a",
   "metadata": {},
   "source": [
    "We can then run each library and stage to determine a heatmap of the diversity at each position and the cumulative mutations within each sequence. First, we set the library to examine hamming distance within the library."
   ]
  },
  {
   "cell_type": "markdown",
   "id": "4c574c22-eb9f-4fae-8112-549d437b7ea5",
   "metadata": {},
   "source": [
    "To determine the hamming distance, we want to examine complete strings compared to the sequence of AAV9."
   ]
  },
  {
   "cell_type": "code",
   "execution_count": null,
   "id": "426287be-0219-449c-a383-f13eda754bc4",
   "metadata": {},
   "outputs": [],
   "source": [
    "aav9_vr = aav9_452 + aav9_492 + aav9_585\n",
    "\n",
    "lst = set(df.loc[inds, '452-458 aa'].values + df.loc[inds, '492-498 aa'].values + df.loc[inds, '585-591 aa'].values)\n",
    "hamming_dist = {k: 0 for k in lst}\n",
    "\n",
    "for sequence in tqdm(lst):\n",
    "\n",
    "    for i in range(21):\n",
    "        if sequence[i] != aav9_vr[i]:\n",
    "            hamming_dist[sequence] += 1\n",
    "            \n",
    "df_hd = pd.DataFrame(hamming_dist.items(), columns = ['sequence', 'hamming_dist'])"
   ]
  },
  {
   "cell_type": "markdown",
   "id": "ef604387-6bf3-4a6b-a7f2-191fd76d941e",
   "metadata": {},
   "source": [
    "We can plot the hamming distance as an ecdf to see the extent of the diversity. "
   ]
  },
  {
   "cell_type": "code",
   "execution_count": null,
   "id": "3c6038a6-8c7c-41ff-b6dc-17fd26ceb129",
   "metadata": {},
   "outputs": [],
   "source": [
    "p = iqplot.ecdf(df_hd.sample(5000), q = 'hamming_dist', style = 'staircase', palette = \"#5A2995\", x_range = (0,15))\n",
    "\n",
    "p.output_backend = 'svg'\n",
    "bokeh.io.show(p)"
   ]
  },
  {
   "cell_type": "markdown",
   "id": "e1e7a226-c46a-4b8f-8fa8-08d532ac01c8",
   "metadata": {},
   "source": [
    "We can then examine the diversity at each site by examining amino acid identity by position with a heatmap. To do this, we must examine each site individually. "
   ]
  },
  {
   "cell_type": "code",
   "execution_count": null,
   "id": "64b62179-56c6-4e90-aa0d-dbcb9292b189",
   "metadata": {},
   "outputs": [],
   "source": [
    "site = '452-458 aa'\n",
    "start = 452"
   ]
  },
  {
   "cell_type": "markdown",
   "id": "c2948c6d-ccb9-41b5-aa84-a3626d702088",
   "metadata": {},
   "source": [
    "We can loop through each amino acid, and determine the prevalence of residue by position."
   ]
  },
  {
   "cell_type": "code",
   "execution_count": null,
   "id": "4f28cd72-c922-4738-a0a7-94c0dfe14501",
   "metadata": {},
   "outputs": [],
   "source": [
    "total_aa_matrix = np.zeros((21,7), dtype=int)\n",
    "\n",
    "for aa in df.loc[inds, site]:\n",
    "    for i in range(7):\n",
    "        if aa[i] in aa_list:\n",
    "            total_aa_matrix[AA_dict[aa[i]],i] += 1"
   ]
  },
  {
   "cell_type": "markdown",
   "id": "ef95866f-17f2-4b20-9659-8e49114cd420",
   "metadata": {},
   "source": [
    "This matrix can be converted to a frequency by dividing by the sum across positions."
   ]
  },
  {
   "cell_type": "code",
   "execution_count": null,
   "id": "582b3fe7-9d6b-43d8-8968-0547aac927b6",
   "metadata": {},
   "outputs": [],
   "source": [
    "aa_freq_matrix = np.zeros_like(total_aa_matrix).astype(float)\n",
    "\n",
    "for j in range(7):\n",
    "    aa_freq_matrix[:,j] = total_aa_matrix[:,j]/sum(total_aa_matrix[:,j])"
   ]
  },
  {
   "cell_type": "markdown",
   "id": "1c124f6c-8ea3-41b2-992c-7fd2f9daea68",
   "metadata": {},
   "source": [
    "We can convert this to a dataframe to enable heatmap plotting."
   ]
  },
  {
   "cell_type": "code",
   "execution_count": null,
   "id": "8c055ea9-8a0a-49cd-b019-23c126357c90",
   "metadata": {},
   "outputs": [],
   "source": [
    "df_hm = pd.DataFrame(aa_freq_matrix, \n",
    "                     columns=np.arange(start,start+7,1).astype(str), \n",
    "                     index=aa_list)\n",
    "\n",
    "df_hm.index.name = 'Amino Acid'\n",
    "df_hm.columns.name = 'Position'\n",
    "\n",
    "df_hm = df_hm.stack().rename(\"value\").reset_index()"
   ]
  },
  {
   "cell_type": "markdown",
   "id": "7163e169-411f-4e24-9f1d-232e2c364120",
   "metadata": {},
   "source": [
    "Next, we can construct our heatmap plot. "
   ]
  },
  {
   "cell_type": "code",
   "execution_count": null,
   "id": "5a89736c-8f20-43e2-aa0b-8df196c2a281",
   "metadata": {},
   "outputs": [],
   "source": [
    "mapper = LinearColorMapper(\n",
    "    palette='Magma256', low=df_hm['value'].min(), high=df_hm['value'].max())\n",
    "\n",
    "# Define a figureabsabs\n",
    "p = bokeh.plotting.figure(\n",
    "    plot_width=500,\n",
    "    plot_height=500,\n",
    "    x_range=list(df_hm[\"Position\"].drop_duplicates()),\n",
    "    y_range=list(reversed(list(df_hm[\"Amino Acid\"].drop_duplicates()))),\n",
    "    toolbar_location='right',\n",
    "    tools = \"pan,wheel_zoom,box_zoom,reset,save\",\n",
    "    x_axis_location=\"above\")\n",
    "\n",
    "# Create rectangle for heatmap\n",
    "p.rect(\n",
    "    x=\"Position\",\n",
    "    y=\"Amino Acid\",\n",
    "    width=1,\n",
    "    height=1,\n",
    "    source=ColumnDataSource(df_hm),\n",
    "    line_color=None,\n",
    "    fill_color=transform('value', mapper))\n",
    "\n",
    "# Add legend\n",
    "color_bar = ColorBar(\n",
    "    color_mapper=mapper,\n",
    "    location=(0, 0))\n",
    "\n",
    "p.add_layout(color_bar, 'right')\n",
    "\n",
    "p.output_backend = 'svg'\n",
    "\n",
    "bokeh.io.show(p)"
   ]
  },
  {
   "cell_type": "markdown",
   "id": "70d9c8dc-75ea-49d9-92e4-8f88f07f26b8",
   "metadata": {},
   "source": [
    "These steps can be repeated for each library, format (linear library or viral genome), and site to generate the corresponding plots."
   ]
  }
 ],
 "metadata": {
  "kernelspec": {
   "display_name": "Python 3 (ipykernel)",
   "language": "python",
   "name": "python3"
  },
  "language_info": {
   "codemirror_mode": {
    "name": "ipython",
    "version": 3
   },
   "file_extension": ".py",
   "mimetype": "text/x-python",
   "name": "python",
   "nbconvert_exporter": "python",
   "pygments_lexer": "ipython3",
   "version": "3.10.7"
  }
 },
 "nbformat": 4,
 "nbformat_minor": 5
}
