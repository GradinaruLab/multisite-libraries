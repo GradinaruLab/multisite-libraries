{
 "cells": [
  {
   "cell_type": "code",
   "execution_count": null,
   "metadata": {},
   "outputs": [],
   "source": [
    "import os\n",
    "import pandas as pd\n",
    "from pepars.utils import Illumina_FASTQ_File_Set\n",
    "from pepars.utils import DNA as DNA_utils\n",
    "from pepars.utils import FASTQ as FASTQ_utils\n",
    "from pepars.analysis import DNA as DNA_analysis\n",
    "\n",
    "from tqdm.notebook import tqdm\n",
    "\n",
    "from Bio.Seq import reverse_complement "
   ]
  },
  {
   "cell_type": "markdown",
   "metadata": {},
   "source": [
    "This code is adapted from work by David Brown for the MCREATE paper, which was presented here: https://doi.org/10.1038/s41592-020-0799-7"
   ]
  },
  {
   "cell_type": "markdown",
   "metadata": {},
   "source": [
    "The following code takes in illumina fastq files, collects the sequence between the region for 452-458, 492-498, and 585-591, and counts the prevalence. These counts are then stored in a file and saved."
   ]
  },
  {
   "cell_type": "code",
   "execution_count": null,
   "metadata": {},
   "outputs": [],
   "source": [
    "file_path = 'raw'\n",
    "\n",
    "sample_names = ['2sll',\n",
    "                '2svg',\n",
    "                '3sll',\n",
    "                '3svg']\n",
    "index = 0\n",
    "\n",
    "for sample in sample_names:\n",
    "\n",
    "    file_set = Illumina_FASTQ_File_Set(file_path, sample)\n",
    "\n",
    "    counts = {}\n",
    "    \n",
    "    for sequences in tqdm(file_set.get_sequence_iterator()):\n",
    "        \n",
    "        seq_452 = sequences[0][29:50]\n",
    "        seq_492 = sequences[0][149:170]\n",
    "        seq_585 = reverse_complement(sequences[1][27:48])\n",
    "        \n",
    "        seq = seq_452 + seq_585\n",
    "        seq = seq_452 + seq_492 + seq_585\n",
    "        \n",
    "        if seq not in counts:\n",
    "            counts[seq] = 1\n",
    "        else:\n",
    "            counts[seq] += 1\n",
    "\n",
    "    sorted_barcode_counts = [(barcode, count) for barcode, count in sorted(counts.items(), key=lambda x: x[1], reverse=True)]\n",
    "\n",
    "    file_set.close()\n",
    "    \n",
    "    path = \"analysis/\"\n",
    "\n",
    "    outfilename = path + sample + \"_counts.csv\"\n",
    "    \n",
    "    df = pd.DataFrame(sorted_barcode_counts, columns = ['barcode', 'counts'])\n",
    "    df.to_csv(outfilename, index=False)\n",
    "    \n",
    "    print(index)\n",
    "    index += 1"
   ]
  },
  {
   "cell_type": "code",
   "execution_count": null,
   "metadata": {},
   "outputs": [],
   "source": []
  }
 ],
 "metadata": {
  "kernelspec": {
   "display_name": "Python 3 (ipykernel)",
   "language": "python",
   "name": "python3"
  },
  "language_info": {
   "codemirror_mode": {
    "name": "ipython",
    "version": 3
   },
   "file_extension": ".py",
   "mimetype": "text/x-python",
   "name": "python",
   "nbconvert_exporter": "python",
   "pygments_lexer": "ipython3",
   "version": "3.10.7"
  }
 },
 "nbformat": 4,
 "nbformat_minor": 4
}
